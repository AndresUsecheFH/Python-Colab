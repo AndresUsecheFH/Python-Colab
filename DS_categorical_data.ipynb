{
  "nbformat": 4,
  "nbformat_minor": 0,
  "metadata": {
    "colab": {
      "provenance": [],
      "include_colab_link": true
    },
    "kernelspec": {
      "name": "python3",
      "display_name": "Python 3"
    }
  },
  "cells": [
    {
      "cell_type": "markdown",
      "metadata": {
        "id": "view-in-github",
        "colab_type": "text"
      },
      "source": [
        "<a href=\"https://colab.research.google.com/github/AndresUsecheFH/Python-Colab/blob/main/DS_categorical_data.ipynb\" target=\"_parent\"><img src=\"https://colab.research.google.com/assets/colab-badge.svg\" alt=\"Open In Colab\"/></a>"
      ]
    },
    {
      "cell_type": "markdown",
      "metadata": {
        "id": "3yjS0lkqA9NY"
      },
      "source": [
        "# **Handling Categorical Data**"
      ]
    },
    {
      "cell_type": "markdown",
      "metadata": {
        "id": "EWkRFS80DKSr"
      },
      "source": [
        "### **Import Libraries**"
      ]
    },
    {
      "cell_type": "code",
      "metadata": {
        "id": "-fZk4hUuA8jD"
      },
      "source": [
        "from seaborn import get_dataset_names\n",
        "from seaborn import load_dataset\n",
        "\n",
        "import pandas as pd\n",
        "import numpy as np\n",
        "import matplotlib.pyplot as plt\n",
        "import seaborn as sns\n",
        "\n",
        "from sklearn.preprocessing import LabelEncoder"
      ],
      "execution_count": null,
      "outputs": []
    },
    {
      "cell_type": "markdown",
      "metadata": {
        "id": "_Cx_FFrRDkut"
      },
      "source": [
        "### **Datasets Available in seaborn**"
      ]
    },
    {
      "cell_type": "code",
      "metadata": {
        "id": "ZqR7cHIADeWQ"
      },
      "source": [
        "print(\"Seaborn Datasets:\\n\")\n",
        "count=0\n",
        "for dataset_name in get_dataset_names():\n",
        "  count+=1\n",
        "  print(count,\".\",dataset_name)"
      ],
      "execution_count": null,
      "outputs": []
    },
    {
      "cell_type": "markdown",
      "metadata": {
        "id": "O766_XMHEQbI"
      },
      "source": [
        "### **Load Dataset \"Diamonds\"**"
      ]
    },
    {
      "cell_type": "code",
      "metadata": {
        "id": "iDmweemMDv_w"
      },
      "source": [
        "data=load_dataset('diamonds')\n",
        "data.head(3)"
      ],
      "execution_count": null,
      "outputs": []
    },
    {
      "cell_type": "code",
      "source": [
        "data.head(6)"
      ],
      "metadata": {
        "id": "MVKDMZ0lOKXK"
      },
      "execution_count": null,
      "outputs": []
    },
    {
      "cell_type": "markdown",
      "metadata": {
        "id": "Q_1cQHb0E2ee"
      },
      "source": [
        "### **Dataset Overview**"
      ]
    },
    {
      "cell_type": "code",
      "metadata": {
        "id": "MPbnU0DpEktI"
      },
      "source": [
        "data.sample(3)"
      ],
      "execution_count": null,
      "outputs": []
    },
    {
      "cell_type": "code",
      "metadata": {
        "id": "1XZRQ1gPE_p0"
      },
      "source": [
        "data.tail(3)"
      ],
      "execution_count": null,
      "outputs": []
    },
    {
      "cell_type": "code",
      "metadata": {
        "id": "W-RqFnFNFExw"
      },
      "source": [
        "rows,cols=data.shape\n",
        "print(\"Shape of the dataframe:\",data.shape)\n",
        "print(\"% Missing Values:\",round(data.isnull().sum().sum()/rows,2))"
      ],
      "execution_count": null,
      "outputs": []
    },
    {
      "cell_type": "code",
      "source": [
        "round(45.585858,0)"
      ],
      "metadata": {
        "id": "gEv-ccdqO0wU"
      },
      "execution_count": null,
      "outputs": []
    },
    {
      "cell_type": "code",
      "metadata": {
        "id": "Y2SC8IjfFtlT"
      },
      "source": [
        "data.describe()"
      ],
      "execution_count": null,
      "outputs": []
    },
    {
      "cell_type": "code",
      "metadata": {
        "id": "OCoTdgIHFu4l"
      },
      "source": [
        "data.info()"
      ],
      "execution_count": null,
      "outputs": []
    },
    {
      "cell_type": "markdown",
      "metadata": {
        "id": "vuE3NZBYd6tk"
      },
      "source": [
        "### **Visualization**"
      ]
    },
    {
      "cell_type": "code",
      "metadata": {
        "id": "wNoM4AOOd_JG"
      },
      "source": [
        "sns.scatterplot(x=data.carat,y=data.price,hue=data.cut,cmap='Set1')\n",
        "plt.title('Carat vs Price',fontsize=15)\n",
        "plt.xlabel('Carat',fontsize=14)\n",
        "plt.ylabel('Price',fontsize=14)\n",
        "plt.show()\n",
        "#Many such graphs can be drawn based on the purpose"
      ],
      "execution_count": null,
      "outputs": []
    },
    {
      "cell_type": "code",
      "metadata": {
        "id": "2YoIES7DfOV2"
      },
      "source": [
        "sns.scatterplot(x=data.depth,y=data.price,hue=data.cut,cmap='Set1')\n",
        "plt.title('Depth vs Price',fontsize=15)\n",
        "plt.xlabel('Depth',fontsize=14)\n",
        "plt.ylabel('Price',fontsize=14)\n",
        "plt.show()\n",
        "#Many such graphs can be drawn based on the purpose"
      ],
      "execution_count": null,
      "outputs": []
    },
    {
      "cell_type": "markdown",
      "metadata": {
        "id": "GARcSeG_FnW3"
      },
      "source": [
        "### **Categorical Features**"
      ]
    },
    {
      "cell_type": "markdown",
      "metadata": {
        "id": "u2bbCqTIF3I2"
      },
      "source": [
        "*The categorical features are Cut, Color and Clarity. These three features needs to be encoded before further processing is done.*"
      ]
    },
    {
      "cell_type": "code",
      "metadata": {
        "id": "0D2lFlMKFSEm"
      },
      "source": [
        "cut=data.cut.unique()\n",
        "print(\"Different Classes in Cut feature:\",*cut)\n",
        "\n",
        "color=data.color.unique()\n",
        "print(\"Different Classes in Color feature:\",*color)\n",
        "\n",
        "clarity=data.clarity.unique()\n",
        "print(\"Different Classes in Clarity feature:\",*clarity)"
      ],
      "execution_count": null,
      "outputs": []
    },
    {
      "cell_type": "markdown",
      "metadata": {
        "id": "n_zrbq5rHH-Z"
      },
      "source": [
        "### **Encoding Categorical Features**"
      ]
    },
    {
      "cell_type": "markdown",
      "metadata": {
        "id": "4vysI6usHN8s"
      },
      "source": [
        "##### **Method 1: Using apply() for Cut feature**"
      ]
    },
    {
      "cell_type": "code",
      "metadata": {
        "id": "QsQ8I_JnHBka"
      },
      "source": [
        "def CutEncoding(cut):\n",
        "  value=-1\n",
        "  if(cut==\"Ideal\"):\n",
        "    value=4\n",
        "  elif(cut==\"Premium\"):\n",
        "    value=3\n",
        "  elif(cut==\"Good\"):\n",
        "    value=2\n",
        "  elif(cut==\"Very Good\"):\n",
        "    value=1\n",
        "  elif(cut==\"Fair\"):\n",
        "    value=0\n",
        "  return value\n",
        "\n",
        "print(\"Cut Feature Before Encoding:\",*data['cut'].unique())\n",
        "data['cut']=data['cut'].apply(lambda x:CutEncoding(x))\n",
        "print(\"Cut Feature After Encoding:\",*data['cut'].unique())"
      ],
      "execution_count": null,
      "outputs": []
    },
    {
      "cell_type": "markdown",
      "metadata": {
        "id": "lvPfH20CIxnJ"
      },
      "source": [
        "##### **Method 2: Using Label Encoder from sklearn.preprocessing for Color feature**"
      ]
    },
    {
      "cell_type": "code",
      "metadata": {
        "id": "qb1vaqLbIk6M"
      },
      "source": [
        "ColorEncoder=LabelEncoder()\n",
        "print(\"Color Feature Before Encoding:\",*data['color'].unique())\n",
        "data.color=ColorEncoder.fit_transform(data.color)\n",
        "print(\"Color Feature After Encoding:\",*data['color'].unique())"
      ],
      "execution_count": null,
      "outputs": []
    },
    {
      "cell_type": "code",
      "source": [
        "data.head()"
      ],
      "metadata": {
        "id": "Ys47YrL6etJD"
      },
      "execution_count": null,
      "outputs": []
    },
    {
      "cell_type": "markdown",
      "metadata": {
        "id": "qtLm1C9uYWVX"
      },
      "source": [
        "##### **Method 3: Using DummyEncoding for Clarity Feature**\n",
        "\n"
      ]
    },
    {
      "cell_type": "code",
      "metadata": {
        "id": "zkQgFV9xZlEk"
      },
      "source": [
        "data.head(3)"
      ],
      "execution_count": null,
      "outputs": []
    },
    {
      "cell_type": "code",
      "source": [
        "data.clarity.unique()"
      ],
      "metadata": {
        "id": "-CLva145RSws"
      },
      "execution_count": null,
      "outputs": []
    },
    {
      "cell_type": "code",
      "metadata": {
        "id": "BffDRgtVXfK0"
      },
      "source": [
        "data=pd.get_dummies(data=data,columns=['clarity'])\n",
        "data.head(3)"
      ],
      "execution_count": null,
      "outputs": []
    },
    {
      "cell_type": "markdown",
      "metadata": {
        "id": "4nrFZJ7WZ1fa"
      },
      "source": [
        "### **Another Quick Example: Iris Dataset**"
      ]
    },
    {
      "cell_type": "code",
      "metadata": {
        "id": "UxxVi-bCY332"
      },
      "source": [
        "#Read Dataset\n",
        "df=load_dataset('iris')\n",
        "df.sample(10)"
      ],
      "execution_count": null,
      "outputs": []
    },
    {
      "cell_type": "code",
      "metadata": {
        "id": "Y7cfb0-saIu1"
      },
      "source": [
        "#Species Feature needs to be Encoded\n",
        "#Encoding using LabelEncoder\n",
        "encoder=LabelEncoder()\n",
        "print(\"Classes before encoding:\",df.species.unique())\n",
        "df['species']=encoder.fit_transform(df['species'])\n",
        "print(\"Classes after encoding:\",df.species.unique())"
      ],
      "execution_count": null,
      "outputs": []
    },
    {
      "cell_type": "code",
      "metadata": {
        "id": "g3ZsUMtDa1vk"
      },
      "source": [
        "#Final Result\n",
        "df.sample(3)"
      ],
      "execution_count": null,
      "outputs": []
    }
  ]
}