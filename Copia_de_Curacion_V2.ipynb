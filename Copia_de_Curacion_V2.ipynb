{
  "cells": [
    {
      "cell_type": "markdown",
      "metadata": {
        "id": "view-in-github",
        "colab_type": "text"
      },
      "source": [
        "<a href=\"https://colab.research.google.com/github/AndresUsecheFH/Python-Colab/blob/main/Copia_de_Curacion_V2.ipynb\" target=\"_parent\"><img src=\"https://colab.research.google.com/assets/colab-badge.svg\" alt=\"Open In Colab\"/></a>"
      ]
    },
    {
      "cell_type": "markdown",
      "metadata": {
        "id": "Z4ApGs4PTfbO"
      },
      "source": [
        "# ***Ejercicio de curación de datos***\n"
      ]
    },
    {
      "cell_type": "markdown",
      "metadata": {
        "id": "5pfNBIVIZK6b"
      },
      "source": [
        "Dentro de la ciencia de datos, una de las reglas implicitas de cualquier proceso, es que la calidad del conocimiento descubierto a partir de los análisis, es directamente proporcional a la calidad de los datasets. La curación de datos, también conocida como limpieza de datos o depuración de datos, es uno de los pasos más importantes para la creación de una cultura de toma de decisiones basadas en datos en la organización. La confianza en las decisiones depende de la calidad de los datos y de sus análisis.\n",
        "\n",
        "La limpieza de datos es el proceso de corregir o eliminar datos incorrectos, formateados incorrectamente, duplicados o incompletos dentro de un dataset. La combinación de varias fuentes de datos (internas y/o externas) implica riesgos de duplicación, etiquetado incorrecto, traslape, entre otros. Si los datos son incorrectos, los resultados y los algoritmos no son confiables, aunque parezcan correctos. No existe una forma absoluta de prescribir los pasos exactos en el proceso de limpieza de datos, este es un proceso que se ajusta a las cracterísticas y contexto del dataset."
      ]
    },
    {
      "cell_type": "markdown",
      "metadata": {
        "id": "w2ZsxSDe9NN-"
      },
      "source": [
        "# Sobre el conjunto de datos"
      ]
    },
    {
      "cell_type": "markdown",
      "metadata": {
        "id": "Q0V9iYp17xI6"
      },
      "source": [
        "En este ejercicio se usa un conjunto de datos que incluye la caracterización de algunos municipios en función de variables educativas, demográficas, financieras, de seguridad, de acceso a servicios públicos, penetración de internet, entre otros"
      ]
    },
    {
      "cell_type": "markdown",
      "metadata": {
        "id": "HCHpHgufY0K_"
      },
      "source": [
        "# *Importación del dataset*\n",
        "\n",
        "\n"
      ]
    },
    {
      "cell_type": "markdown",
      "metadata": {
        "id": "6jXYBjOJZiEF"
      },
      "source": [
        "Se importa el dataset que se encuentra alojado en Google Drive"
      ]
    },
    {
      "cell_type": "code",
      "execution_count": null,
      "metadata": {
        "colab": {
          "base_uri": "https://localhost:8080/"
        },
        "id": "x73E_8NOW8z-",
        "outputId": "0464a1a0-01c9-4433-e63d-04c8f0c69013"
      },
      "outputs": [
        {
          "output_type": "stream",
          "name": "stdout",
          "text": [
            "  Departamentos Municipios  Centro poblado  Total_matricula  Jornada_completa  \\\n",
            "0     ANTIOQUIA  ABEJORRAL               1            26638           11079.0   \n",
            "1     ANTIOQUIA   ABRIAQUI               1             2981            1505.0   \n",
            "2     ANTIOQUIA     AMALFI               3            40212           12066.0   \n",
            "3     ANTIOQUIA      ANDES               1            62521           12597.0   \n",
            "4     ANTIOQUIA  ARBOLETES               3            69310            8849.0   \n",
            "\n",
            "   Jornada_fds  Jornada_mañana  Jornada_nocturna  Jornada_tarde  \\\n",
            "0        134.0             0.0             212.0            0.0   \n",
            "1         27.0             0.0               0.0            0.0   \n",
            "2       1414.0           728.0             301.0          766.0   \n",
            "3       1246.0          3293.0             811.0         2000.0   \n",
            "4       2347.0         10730.0              15.0         1739.0   \n",
            "\n",
            "   Jornada_unica  PromedioPrecioGas  Densidad_poblacional  Crecimiento_pob  \\\n",
            "0            0.0        10279.00000             38.997988        -0.018633   \n",
            "1            0.0        10105.00000              7.423208        -0.092616   \n",
            "2           80.0        10269.00000             17.918301         0.029913   \n",
            "3            0.0        10618.78571            101.151448         0.038934   \n",
            "4            0.0         9919.50000             54.474930         0.110786   \n",
            "\n",
            "   Ingresos_municipales  Penetracion_internet  HomicidiosX100mil_habitantes  \\\n",
            "0           9966.637598              0.028206                     40.878896   \n",
            "1           2677.129912              0.017031                      0.000000   \n",
            "2          13224.746440              0.039001                     50.890585   \n",
            "3          18931.228080              0.037354                     78.522873   \n",
            "4          16644.619440              0.015112                     18.855727   \n",
            "\n",
            "   Hectareas_coca  \n",
            "0             0.0  \n",
            "1             0.0  \n",
            "2           170.0  \n",
            "3             0.0  \n",
            "4             0.0  \n"
          ]
        }
      ],
      "source": [
        "#requiere cargar el archivo \"datos_municipios_utf8.csv\" a Colab\n",
        "import pandas as pd\n",
        "data = pd.read_csv('/content/datos_municipios_utf8.csv')\n",
        "print(data.head(5))"
      ]
    },
    {
      "cell_type": "markdown",
      "metadata": {
        "id": "VaMdGb74Zrlk"
      },
      "source": [
        "# *Descripción de los datos*"
      ]
    },
    {
      "cell_type": "markdown",
      "metadata": {
        "id": "kjl7dCeyYh3x"
      },
      "source": [
        "*A continuación se describen los datos del dataset*"
      ]
    },
    {
      "cell_type": "code",
      "execution_count": null,
      "metadata": {
        "colab": {
          "base_uri": "https://localhost:8080/"
        },
        "id": "krTkXAODYJ9r",
        "outputId": "51192d87-d050-449d-f681-cfcdc845faf6"
      },
      "outputs": [
        {
          "output_type": "stream",
          "name": "stdout",
          "text": [
            "El tamaño del dataset original es:  (255, 17)\n"
          ]
        }
      ],
      "source": [
        "#Calcular el tamaño del dataset original\n",
        "print(\"El tamaño del dataset original es: \", data.shape)"
      ]
    },
    {
      "cell_type": "code",
      "execution_count": null,
      "metadata": {
        "colab": {
          "base_uri": "https://localhost:8080/"
        },
        "id": "2pvB83enYfwy",
        "outputId": "80727c4e-94b3-471c-f768-b66bffd98912"
      },
      "outputs": [
        {
          "output_type": "stream",
          "name": "stdout",
          "text": [
            "Las variables del dataset son: \n",
            " Index(['Departamentos', 'Municipios', 'Centro poblado', 'Total_matricula',\n",
            "       'Jornada_completa', 'Jornada_fds', 'Jornada_mañana', 'Jornada_nocturna',\n",
            "       'Jornada_tarde', 'Jornada_unica', 'PromedioPrecioGas',\n",
            "       'Densidad_poblacional', 'Crecimiento_pob', 'Ingresos_municipales',\n",
            "       'Penetracion_internet', 'HomicidiosX100mil_habitantes',\n",
            "       'Hectareas_coca'],\n",
            "      dtype='object')\n"
          ]
        }
      ],
      "source": [
        "#Identificar las variables del dataset\n",
        "print(\"Las variables del dataset son: \\n\", data.columns)"
      ]
    },
    {
      "cell_type": "code",
      "execution_count": null,
      "metadata": {
        "colab": {
          "base_uri": "https://localhost:8080/"
        },
        "id": "CcjV3dOLZ2cN",
        "outputId": "875dcbaa-6c9b-4d3d-cfb2-ca73beeba534"
      },
      "outputs": [
        {
          "output_type": "stream",
          "name": "stdout",
          "text": [
            "El dataset tiene n registos:  255\n"
          ]
        }
      ],
      "source": [
        "#Contar el número de registros del dataset\n",
        "print(\"El dataset tiene n registos: \", len(data))"
      ]
    },
    {
      "cell_type": "markdown",
      "metadata": {
        "id": "zPK3CWo3aHRN"
      },
      "source": [
        "# *Conteo y eliminación de registros duplicados*"
      ]
    },
    {
      "cell_type": "code",
      "execution_count": null,
      "metadata": {
        "colab": {
          "base_uri": "https://localhost:8080/"
        },
        "id": "A4YuXHRGbUeP",
        "outputId": "6a024148-7a2a-4a5c-cb5b-847d58e0e1aa"
      },
      "outputs": [
        {
          "output_type": "stream",
          "name": "stdout",
          "text": [
            "Tamaño del dataset original:  (255, 17)\n",
            "Tamaño del dataset sin duplicados:  (247, 17)\n"
          ]
        }
      ],
      "source": [
        "#Contar cuantos registros tengo repetidos y fusionarlos en uno solo\n",
        "print(\"Tamaño del dataset original: \", data.shape)\n",
        "data = data.drop_duplicates(keep='first', inplace=False)\n",
        "print(\"Tamaño del dataset sin duplicados: \", data.shape)"
      ]
    },
    {
      "cell_type": "markdown",
      "metadata": {
        "id": "-f-YKurAX1Hi"
      },
      "source": [
        "# Ordenamiento de los registros"
      ]
    },
    {
      "cell_type": "code",
      "execution_count": null,
      "metadata": {
        "colab": {
          "base_uri": "https://localhost:8080/"
        },
        "id": "lr0M3A8ZcNk_",
        "outputId": "d206fbc5-57bd-415a-bcc3-308d1aa43be4"
      },
      "outputs": [
        {
          "output_type": "stream",
          "name": "stdout",
          "text": [
            "Municipios ordenados: \n",
            " 0     ABEJORRAL\n",
            "1      ABRIAQUI\n",
            "2        AMALFI\n",
            "3         ANDES\n",
            "4     ARBOLETES\n",
            "5       BARBOSA\n",
            "7       BETULIA\n",
            "8        CALDAS\n",
            "9      CARACOLI\n",
            "10     CAUCASIA\n",
            "Name: Municipios, dtype: object\n"
          ]
        }
      ],
      "source": [
        "#Ordenar los registros ascendente o descendente usando un criterio\n",
        "data.sort_values(\"Municipios\", ascending = True)\n",
        "print(\"Municipios ordenados: \\n\", data.Municipios.head(10))\n"
      ]
    },
    {
      "cell_type": "markdown",
      "metadata": {
        "id": "RPDP3pbSYR_A"
      },
      "source": [
        "#Completar valores perdidos"
      ]
    },
    {
      "cell_type": "code",
      "execution_count": null,
      "metadata": {
        "colab": {
          "base_uri": "https://localhost:8080/"
        },
        "id": "nSgeXTz3YQe9",
        "outputId": "f9b9e6b3-e7b7-41e5-afb9-ace7dae57f8b"
      },
      "outputs": [
        {
          "output_type": "stream",
          "name": "stdout",
          "text": [
            "Cantidad de campos vacios en cada columna: \n",
            " Departamentos                    0\n",
            "Municipios                       0\n",
            "Centro poblado                   0\n",
            "Total_matricula                  0\n",
            "Jornada_completa                43\n",
            "Jornada_fds                      3\n",
            "Jornada_mañana                   7\n",
            "Jornada_nocturna                 2\n",
            "Jornada_tarde                    2\n",
            "Jornada_unica                   18\n",
            "PromedioPrecioGas                0\n",
            "Densidad_poblacional             0\n",
            "Crecimiento_pob                  0\n",
            "Ingresos_municipales             0\n",
            "Penetracion_internet             2\n",
            "HomicidiosX100mil_habitantes     0\n",
            "Hectareas_coca                  48\n",
            "dtype: int64\n"
          ]
        }
      ],
      "source": [
        "#Verificar el número de campos vacios\n",
        "cantidad_nulos = data.isnull().sum()  # conteo de los nulos\n",
        "print(\"Cantidad de campos vacios en cada columna: \\n\", cantidad_nulos)"
      ]
    },
    {
      "cell_type": "code",
      "execution_count": null,
      "metadata": {
        "colab": {
          "base_uri": "https://localhost:8080/"
        },
        "id": "3agRMReCeN7M",
        "outputId": "a8981611-0362-4a84-c794-8e0f135834f4"
      },
      "outputs": [
        {
          "output_type": "stream",
          "name": "stdout",
          "text": [
            "Cantidad de registros:  247\n",
            "Porcentaje de campos vacios por columna: \n",
            " Departamentos                    0.000000\n",
            "Municipios                       0.000000\n",
            "Centro poblado                   0.000000\n",
            "Total_matricula                  0.000000\n",
            "Jornada_completa                17.408907\n",
            "Jornada_fds                      1.214575\n",
            "Jornada_mañana                   2.834008\n",
            "Jornada_nocturna                 0.809717\n",
            "Jornada_tarde                    0.809717\n",
            "Jornada_unica                    7.287449\n",
            "PromedioPrecioGas                0.000000\n",
            "Densidad_poblacional             0.000000\n",
            "Crecimiento_pob                  0.000000\n",
            "Ingresos_municipales             0.000000\n",
            "Penetracion_internet             0.809717\n",
            "HomicidiosX100mil_habitantes     0.000000\n",
            "Hectareas_coca                  19.433198\n",
            "dtype: float64\n"
          ]
        }
      ],
      "source": [
        "#Calcular el porcentaje de campos vacios por columna\n",
        "cantidad_registros = data.shape[0]\n",
        "print(\"Cantidad de registros: \", data.shape[0])\n",
        "Porcentaje = cantidad_nulos/cantidad_registros*100\n",
        "print(\"Porcentaje de campos vacios por columna: \\n\", Porcentaje)"
      ]
    },
    {
      "cell_type": "markdown",
      "metadata": {
        "id": "LIGCL2h2fTup"
      },
      "source": [
        "#OPCIÓN 1\n",
        "Eliminar los registros que tengan n cantidad de valores nulos o vacios"
      ]
    },
    {
      "cell_type": "code",
      "execution_count": null,
      "metadata": {
        "colab": {
          "base_uri": "https://localhost:8080/"
        },
        "id": "6_oIdyFBfBss",
        "outputId": "450150de-bc2b-451b-80dc-2fead62aecb9"
      },
      "outputs": [
        {
          "output_type": "stream",
          "name": "stdout",
          "text": [
            "Cantidad de Columnas:  17\n"
          ]
        }
      ],
      "source": [
        "#Calcular la cantidad de columnas del dataset\n",
        "print(\"Cantidad de Columnas: \", len(data.columns))\n"
      ]
    },
    {
      "cell_type": "code",
      "execution_count": null,
      "metadata": {
        "colab": {
          "base_uri": "https://localhost:8080/"
        },
        "id": "fvHmQedzgDFG",
        "outputId": "d7563513-1798-4763-be2d-cece14932bc6"
      },
      "outputs": [
        {
          "output_type": "stream",
          "name": "stdout",
          "text": [
            "Mantener los registros con al menos n valores NO-nulos:  15\n"
          ]
        }
      ],
      "source": [
        "#Definir la cantidad de columnas en las que se espera existan valores NO-nulos para no tener que borrar el registro\n",
        "rango = len(data.columns)*0.9\n",
        "\n",
        "print(\"Mantener los registros con al menos n valores NO-nulos: \", int(rango))"
      ]
    },
    {
      "cell_type": "code",
      "execution_count": null,
      "metadata": {
        "colab": {
          "base_uri": "https://localhost:8080/"
        },
        "id": "Ol2ZH260gJzG",
        "outputId": "ff6e785f-5821-4620-ab93-af25057ceec4"
      },
      "outputs": [
        {
          "output_type": "stream",
          "name": "stdout",
          "text": [
            "Tamano del dataset curado:  (212, 17)\n"
          ]
        }
      ],
      "source": [
        "#Mantener los registros con al menos un %rango de NO-nulos\n",
        "data.dropna(thresh = rango, axis = 0, inplace = True)\n",
        "print(\"Tamano del dataset curado: \", data.shape)"
      ]
    },
    {
      "cell_type": "markdown",
      "metadata": {
        "id": "0hBM3jfNhLNc"
      },
      "source": [
        "#OPCIÓN 2\n",
        "Reemplazar los valores nulos con el promedio de la columna (Mean Imputation)"
      ]
    },
    {
      "cell_type": "code",
      "execution_count": null,
      "metadata": {
        "colab": {
          "base_uri": "https://localhost:8080/"
        },
        "id": "EG3CvaXZhOmB",
        "outputId": "fbed1d3a-956a-4c5d-99a2-7605bb9ec249"
      },
      "outputs": [
        {
          "output_type": "stream",
          "name": "stdout",
          "text": [
            "Promedio de todas las variables del dataset: \n",
            " Centro poblado                      2.575472\n",
            "Total_matricula                 73640.613208\n",
            "Jornada_completa                 4011.855670\n",
            "Jornada_fds                      1520.236967\n",
            "Jornada_mañana                  10435.429952\n",
            "Jornada_nocturna                  826.113208\n",
            "Jornada_tarde                    2800.386792\n",
            "Jornada_unica                     384.507317\n",
            "PromedioPrecioGas                9639.723481\n",
            "Densidad_poblacional               96.713594\n",
            "Crecimiento_pob                     0.021308\n",
            "Ingresos_municipales            30032.134164\n",
            "Penetracion_internet                0.016320\n",
            "HomicidiosX100mil_habitantes       28.629464\n",
            "Hectareas_coca                     22.676923\n",
            "dtype: float64\n"
          ]
        },
        {
          "output_type": "stream",
          "name": "stderr",
          "text": [
            "<ipython-input-46-e91906d0d7ab>:3: FutureWarning: The default value of numeric_only in DataFrame.mean is deprecated. In a future version, it will default to False. In addition, specifying 'numeric_only=None' is deprecated. Select only valid columns or specify the value of numeric_only to silence this warning.\n",
            "  media = data.mean()\n"
          ]
        }
      ],
      "source": [
        "#Convertir los valores del dataset a flotantes y luego calculo la media de la columna\n",
        "data.astype('float', errors='ignore').dtypes\n",
        "media = data.mean()\n",
        "print(\"Promedio de todas las variables del dataset: \\n\", media)\n"
      ]
    },
    {
      "cell_type": "code",
      "execution_count": null,
      "metadata": {
        "colab": {
          "base_uri": "https://localhost:8080/"
        },
        "id": "rdo3vnQ_iPX1",
        "outputId": "d367d5ba-d32a-4e3d-a7af-821a12378855"
      },
      "outputs": [
        {
          "output_type": "stream",
          "name": "stdout",
          "text": [
            "Verifica que los promedios no han cambiado: \n",
            " Centro poblado                  0.000000e+00\n",
            "Total_matricula                 0.000000e+00\n",
            "Jornada_completa                4.547474e-13\n",
            "Jornada_fds                     0.000000e+00\n",
            "Jornada_mañana                 -1.818989e-12\n",
            "Jornada_nocturna                0.000000e+00\n",
            "Jornada_tarde                   0.000000e+00\n",
            "Jornada_unica                   5.684342e-14\n",
            "PromedioPrecioGas               0.000000e+00\n",
            "Densidad_poblacional            0.000000e+00\n",
            "Crecimiento_pob                 0.000000e+00\n",
            "Ingresos_municipales            0.000000e+00\n",
            "Penetracion_internet            0.000000e+00\n",
            "HomicidiosX100mil_habitantes    0.000000e+00\n",
            "Hectareas_coca                  0.000000e+00\n",
            "dtype: float64\n"
          ]
        },
        {
          "output_type": "stream",
          "name": "stderr",
          "text": [
            "<ipython-input-48-a6d0a62c7535>:5: FutureWarning: The default value of numeric_only in DataFrame.mean is deprecated. In a future version, it will default to False. In addition, specifying 'numeric_only=None' is deprecated. Select only valid columns or specify the value of numeric_only to silence this warning.\n",
            "  media1 = data.mean()\n"
          ]
        }
      ],
      "source": [
        "#Rellenar los vacios con la media calculada\n",
        "data.fillna(media, inplace = True)\n",
        "\n",
        "#Calcular el promedio de las columnas luego de haber llenado los vacios con el promedio\n",
        "media1 = data.mean()\n",
        "\n",
        "#Comparar los promedios del dataset antes y despues de llenar con promedios\n",
        "comparar = media - media1\n",
        "print(\"Verifica que los promedios no han cambiado: \\n\", comparar)"
      ]
    },
    {
      "cell_type": "markdown",
      "metadata": {
        "id": "BvF0Z7OmkxSZ"
      },
      "source": [
        "#Otras acciones básicas de limpieza\n",
        "Convertir texto de MAYÚSCULAS a minúsculas y viceversa"
      ]
    },
    {
      "cell_type": "code",
      "execution_count": null,
      "metadata": {
        "colab": {
          "base_uri": "https://localhost:8080/"
        },
        "id": "KXjr1b_Nkv-d",
        "outputId": "891150c6-e3b4-4a64-9e44-e9dcb8c03cbc"
      },
      "outputs": [
        {
          "output_type": "stream",
          "name": "stdout",
          "text": [
            "Convertidos a minúsculas: \n",
            " 252      america\n",
            "248      america\n",
            "0      antioquia\n",
            "20     antioquia\n",
            "19     antioquia\n",
            "Name: Departamentos, dtype: object\n"
          ]
        }
      ],
      "source": [
        "#Ordenar los valores de la variable Departamentos\n",
        "data = data.sort_values(\"Departamentos\", ascending = True)\n",
        "\n",
        "#Cambio de mayúscula a minúscula\n",
        "data[\"Departamentos\"] = data.Departamentos.apply(lambda x: x.lower())\n",
        "print(\"Convertidos a minúsculas: \\n\", data.Departamentos.head(5))"
      ]
    },
    {
      "cell_type": "code",
      "execution_count": null,
      "metadata": {
        "colab": {
          "base_uri": "https://localhost:8080/"
        },
        "id": "-QduSoINljti",
        "outputId": "be195a20-92a9-4106-8f21-111429386524"
      },
      "outputs": [
        {
          "output_type": "stream",
          "name": "stdout",
          "text": [
            "Convertidos a mayúsculas: \n",
            " 252      AMERICA\n",
            "248      AMERICA\n",
            "0      ANTIOQUIA\n",
            "20     ANTIOQUIA\n",
            "19     ANTIOQUIA\n",
            "Name: Departamentos, dtype: object\n"
          ]
        }
      ],
      "source": [
        "#Cambio de minúscula a mayúscula\n",
        "data[\"Departamentos\"] = data.Departamentos.apply(lambda x: x.upper())\n",
        "print(\"Convertidos a mayúsculas: \\n\", data.Departamentos.head(5))"
      ]
    },
    {
      "cell_type": "markdown",
      "metadata": {
        "id": "UMcKr2vTmGtQ"
      },
      "source": [
        "Reemplazar el valor de un campo por otro\n"
      ]
    },
    {
      "cell_type": "code",
      "execution_count": null,
      "metadata": {
        "colab": {
          "base_uri": "https://localhost:8080/"
        },
        "id": "jDwnUAcYmJ8i",
        "outputId": "13c8cbf7-e2f7-4bf0-ed3f-2ee92b3362f4"
      },
      "outputs": [
        {
          "output_type": "stream",
          "name": "stdout",
          "text": [
            "Valor Reemplazado: \n",
            " 252    VALLE DEL CAUCA\n",
            "248    VALLE DEL CAUCA\n",
            "0            ANTIOQUIA\n",
            "20           ANTIOQUIA\n",
            "19           ANTIOQUIA\n",
            "Name: Departamentos, dtype: object\n"
          ]
        }
      ],
      "source": [
        "#Supongamos que tenemos un numero de registros al que se les traslapó el pais \"AMERICA\" como si fuera departamento,\n",
        "#cuando en realidad es Valle del Cauca\n",
        "data.Departamentos = data.Departamentos.apply(lambda x: str(x).replace(\"AMERICA\", \"VALLE DEL CAUCA\"))  #Reemplazar el valor de un campo por otro (suponga que usted conoce el contexto)\n",
        "print(\"Valor Reemplazado: \\n\", data.Departamentos.head(5))"
      ]
    },
    {
      "cell_type": "markdown",
      "metadata": {
        "id": "GGIjW8nmmpJ4"
      },
      "source": [
        "Cambiar los valores de una variable a números para poderlos analizar estadísticamente"
      ]
    },
    {
      "cell_type": "code",
      "execution_count": null,
      "metadata": {
        "colab": {
          "base_uri": "https://localhost:8080/"
        },
        "id": "WWiugPPUmmfY",
        "outputId": "b889d947-c6b7-428d-ab94-72c9162f3141"
      },
      "outputs": [
        {
          "output_type": "stream",
          "name": "stdout",
          "text": [
            "PromedioPrecioGas: \n",
            " 252     9613.769231\n",
            "248     9978.386364\n",
            "0      10279.000000\n",
            "20     10104.066670\n",
            "19      9887.666667\n",
            "Name: PromedioPrecioGas, dtype: float64\n"
          ]
        }
      ],
      "source": [
        "#Cambiar el formato de los valores de la variable PromedioPrecioGas\n",
        "data.PromedioPrecioGas = pd.to_numeric(data.PromedioPrecioGas)\n",
        "print(\"PromedioPrecioGas: \\n\", data.PromedioPrecioGas.head(5))"
      ]
    },
    {
      "cell_type": "code",
      "execution_count": null,
      "metadata": {
        "colab": {
          "base_uri": "https://localhost:8080/"
        },
        "id": "ifdjPsVknAdX",
        "outputId": "47ec7a4d-8831-4aad-adbe-e3353570c69e"
      },
      "outputs": [
        {
          "output_type": "stream",
          "name": "stdout",
          "text": [
            "Penetracion_internet: \n",
            " 252    1.407837\n",
            "248    9.551872\n",
            "0      2.820644\n",
            "20     2.807604\n",
            "19     1.552106\n",
            "Name: Penetracion_internet, dtype: float64\n"
          ]
        }
      ],
      "source": [
        "#Cambiar el formato de los valores de la variable Penetracion_internet\n",
        "data.Penetracion_internet = pd.to_numeric(data.Penetracion_internet)*100\n",
        "print(\"Penetracion_internet: \\n\", data.Penetracion_internet.head(5))"
      ]
    },
    {
      "cell_type": "markdown",
      "metadata": {
        "id": "aFgddSdWnJLW"
      },
      "source": [
        "#CURACIÓN BASADA EN ESTADÍSTICA"
      ]
    },
    {
      "cell_type": "markdown",
      "metadata": {
        "id": "uTeC-6E7wX7v"
      },
      "source": [
        "Extraer las variables númericas del dataset para poderlas analizar"
      ]
    },
    {
      "cell_type": "code",
      "execution_count": null,
      "metadata": {
        "colab": {
          "base_uri": "https://localhost:8080/"
        },
        "id": "M9cUrm0MyAoP",
        "outputId": "0c033c64-aba1-461b-ce2d-a2b8c99dec12"
      },
      "outputs": [
        {
          "output_type": "stream",
          "name": "stdout",
          "text": [
            "El tamaño del dataset unicamente con variables numéricas es:  (212, 15)\n"
          ]
        }
      ],
      "source": [
        "numeric = data._get_numeric_data()\n",
        "print(\"El tamaño del dataset unicamente con variables numéricas es: \", numeric.shape)"
      ]
    },
    {
      "cell_type": "markdown",
      "metadata": {
        "id": "XnN5MvcSyBx-"
      },
      "source": [
        "Visualizar los datos en un diagrama de cajas y bigotes para identificar valores extraños (Outliers)"
      ]
    },
    {
      "cell_type": "code",
      "execution_count": null,
      "metadata": {
        "colab": {
          "base_uri": "https://localhost:8080/",
          "height": 830
        },
        "id": "QBrB8W7MwPzZ",
        "outputId": "3e4f7c88-e21a-4fdc-d606-2ec8c63beb32"
      },
      "outputs": [
        {
          "output_type": "display_data",
          "data": {
            "text/plain": [
              "<Figure size 1000x1000 with 1 Axes>"
            ],
            "image/png": "[encoded data removed]"
          },
          "metadata": {}
        }
      ],
      "source": [
        "#OPCION 1. Extraer las variables numéricas\n",
        "from matplotlib import pyplot as plt\n",
        "boxplot = data.boxplot(column=[\"Jornada_completa\", \"PromedioPrecioGas\", \"Penetracion_internet\", \"Densidad_poblacional\"], return_type='both', figsize=(10,10))\n",
        "plt.show()"
      ]
    },
    {
      "cell_type": "markdown",
      "metadata": {
        "id": "kpUtjvXaxYog"
      },
      "source": [
        "Visualizar los datos en histogramas para identificar la distribución de los datos"
      ]
    },
    {
      "cell_type": "code",
      "execution_count": null,
      "metadata": {
        "colab": {
          "base_uri": "https://localhost:8080/",
          "height": 853
        },
        "id": "b4OtOSj9w2DM",
        "outputId": "ebc5ff47-6e7a-4d47-ffdc-17fa24e9d65e"
      },
      "outputs": [
        {
          "output_type": "display_data",
          "data": {
            "text/plain": [
              "<Figure size 1000x1000 with 4 Axes>"
            ],
            "image/png": "[encoded data removed]"
          },
          "metadata": {}
        }
      ],
      "source": [
        "histograma = data.hist(column=[\"Jornada_completa\", \"PromedioPrecioGas\", \"Penetracion_internet\", \"Densidad_poblacional\"], figsize=(10,10))\n",
        "plt.show()"
      ]
    },
    {
      "cell_type": "markdown",
      "metadata": {
        "id": "bWfp73Gvyu8u"
      },
      "source": [
        "Determinar los cuartiles 1 y 3 y el rango elegido para incluir o descartar datos.\n",
        "Los cuartiles son medidas de posición no central que permiten conocer otros puntos característicos de la distribución."
      ]
    },
    {
      "cell_type": "code",
      "execution_count": null,
      "metadata": {
        "colab": {
          "base_uri": "https://localhost:8080/",
          "height": 865
        },
        "id": "7dadKL-ywtSG",
        "outputId": "48d6b99d-ba2b-4da7-c48e-180ca686fe26"
      },
      "outputs": [
        {
          "output_type": "display_data",
          "data": {
            "text/plain": [
              "<Figure size 640x480 with 1 Axes>"
            ],
            "image/png": "[encoded data removed]"
          },
          "metadata": {}
        },
        {
          "output_type": "display_data",
          "data": {
            "text/plain": [
              "<Figure size 640x480 with 1 Axes>"
            ],
            "image/png": "[encoded data removed]"
          },
          "metadata": {}
        }
      ],
      "source": [
        "from scipy import stats\n",
        "import numpy as np\n",
        "\n",
        "#Valor del cuartil alto aceptado\n",
        "rango_alto  = 0.75\n",
        "#Valor del cuartil bajo aceptado\n",
        "rango_bajo = 0.25\n",
        "#Calculo\n",
        "data_outliers = numeric[(numeric.Jornada_completa < numeric.Jornada_completa.quantile(rango_alto)) & (numeric.Jornada_completa > numeric.Jornada_completa.quantile(rango_bajo))]\n",
        "data_outliers.boxplot(\"Jornada_completa\")\n",
        "data_outliers.hist(\"Jornada_completa\")\n",
        "plt.show()"
      ]
    },
    {
      "cell_type": "code",
      "execution_count": null,
      "metadata": {
        "colab": {
          "base_uri": "https://localhost:8080/"
        },
        "id": "DVVLMMK-3WWW",
        "outputId": "0bad7711-9363-41aa-ca9b-66baf75ee7be"
      },
      "outputs": [
        {
          "output_type": "stream",
          "name": "stdout",
          "text": [
            "El dataset procesado tiene un tamaño de:  212\n",
            "El dataset sin outliers tiene un tamaño de:  106\n",
            "El tamaño del dataset se redujo en: 106 registros\n"
          ]
        }
      ],
      "source": [
        "#calcular en cuanto se redujo el tamaño del dataset\n",
        "\n",
        "print(\"El dataset procesado tiene un tamaño de: \", numeric[\"Jornada_completa\"].count())\n",
        "print(\"El dataset sin outliers tiene un tamaño de: \", data_outliers[\"Jornada_completa\"].count())\n",
        "\n",
        "diferencia = numeric[\"Jornada_completa\"].count() - data_outliers[\"Jornada_completa\"].count()\n",
        "print(\"El tamaño del dataset se redujo en:\", diferencia, \"registros\")\n"
      ]
    },
    {
      "cell_type": "markdown",
      "metadata": {
        "id": "UQAWO8tV44bx"
      },
      "source": [
        "#EJERCICIO DE PREPROCESAMIENTO"
      ]
    },
    {
      "cell_type": "code",
      "execution_count": null,
      "metadata": {
        "colab": {
          "base_uri": "https://localhost:8080/",
          "height": 976
        },
        "id": "4mRGkGQF47XD",
        "outputId": "56252b59-3d61-4b20-edd1-6408b7de3ec7"
      },
      "outputs": [
        {
          "output_type": "stream",
          "name": "stdout",
          "text": [
            "Promedio de la Jornada Completa 4011.8556701030925\n",
            "Promedio de la Jornada_completa ajustado:  -1.8433891729625242e-16\n",
            "Varianza de la Jornada_completa ajustado:  1.0000000000000002\n",
            "Promedio del PromedioPrecioGas 9639.723480900944\n",
            "Promedio del PromedioPrecioGas ajustado:  -1.4495742132841666e-15\n",
            "Varianza del PromedioPrecioGas ajustado:  1.0\n"
          ]
        },
        {
          "output_type": "display_data",
          "data": {
            "text/plain": [
              "<Figure size 640x480 with 1 Axes>"
            ],
            "image/png": "[encoded data removed]"
          },
          "metadata": {}
        },
        {
          "output_type": "display_data",
          "data": {
            "text/plain": [
              "<Figure size 640x480 with 1 Axes>"
            ],
            "image/png": "[encoded data removed]"
          },
          "metadata": {}
        }
      ],
      "source": [
        "#estandarización de datos para facilitar su procesamiento futuro - requiere instalar Sklearn.preprocessing\n",
        "\n",
        "from sklearn.preprocessing import StandardScaler\n",
        "escalador = StandardScaler()\n",
        "escalado_JC = escalador.fit(data_outliers.Jornada_completa.values.reshape(-1,1))\n",
        "transformado_JC = escalador.transform(data_outliers.Jornada_completa.values.reshape(-1,1))\n",
        "ajustado_JC = escalador.fit_transform(data_outliers.Jornada_completa.values.reshape(-1,1))\n",
        "\n",
        "escalado_PG = escalador.fit(data.PromedioPrecioGas.values.reshape(-1,1))\n",
        "transformado_PG = escalador.transform(data.PromedioPrecioGas.values.reshape(-1,1))\n",
        "ajustado_PG = escalador.fit_transform(data.PromedioPrecioGas.values.reshape(-1,1))\n",
        "\n",
        "#comprobar que la media es cero y la varianza es 1\n",
        "print(\"Promedio de la Jornada Completa\", np.mean(data.Jornada_completa))\n",
        "print(\"Promedio de la Jornada_completa ajustado: \", np.mean(ajustado_JC))\n",
        "print(\"Varianza de la Jornada_completa ajustado: \", np.var(ajustado_JC))\n",
        "\n",
        "print(\"Promedio del PromedioPrecioGas\", np.mean(data.PromedioPrecioGas))\n",
        "print(\"Promedio del PromedioPrecioGas ajustado: \", np.mean(ajustado_PG))\n",
        "print(\"Varianza del PromedioPrecioGas ajustado: \", np.var(ajustado_PG))\n",
        "\n",
        "plt.boxplot(ajustado_JC)\n",
        "plt.xticks([1], [\"ajustado_JC\"], rotation=10)\n",
        "plt.show()\n",
        "\n",
        "plt.boxplot(ajustado_PG)\n",
        "plt.xticks([1], [\"ajustado_PG\"], rotation=10)\n",
        "plt.show()"
      ]
    }
  ],
  "metadata": {
    "colab": {
      "provenance": [],
      "include_colab_link": true
    },
    "kernelspec": {
      "display_name": "Python 3",
      "name": "python3"
    },
    "language_info": {
      "name": "python"
    }
  },
  "nbformat": 4,
  "nbformat_minor": 0
}