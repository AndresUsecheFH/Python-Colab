{
  "nbformat": 4,
  "nbformat_minor": 0,
  "metadata": {
    "colab": {
      "provenance": [],
      "include_colab_link": true
    },
    "kernelspec": {
      "name": "python3",
      "display_name": "Python 3"
    },
    "language_info": {
      "name": "python"
    }
  },
  "cells": [
    {
      "cell_type": "markdown",
      "metadata": {
        "id": "view-in-github",
        "colab_type": "text"
      },
      "source": [
        "<a href=\"https://colab.research.google.com/github/AndresUsecheFH/Python-Colab/blob/main/Visualizacion_base_de_datos_proyecto.ipynb\" target=\"_parent\"><img src=\"https://colab.research.google.com/assets/colab-badge.svg\" alt=\"Open In Colab\"/></a>"
      ]
    },
    {
      "cell_type": "code",
      "execution_count": null,
      "metadata": {
        "id": "6CtbDj6EvZzx",
        "colab": {
          "base_uri": "https://localhost:8080/"
        },
        "outputId": "df0fe06d-c839-44c2-a83e-8a7a699a811a"
      },
      "outputs": [
        {
          "output_type": "stream",
          "name": "stdout",
          "text": [
            "Mounted at /content/drive\n"
          ]
        }
      ],
      "source": [
        "from google.colab import drive\n",
        "drive.mount('/content/drive')"
      ]
    },
    {
      "cell_type": "code",
      "execution_count": null,
      "metadata": {
        "colab": {
          "base_uri": "https://localhost:8080/"
        },
        "outputId": "21399e71-5e2e-4ba4-9e57-1a68fc86e0ca",
        "id": "BL9eAhEa4swM"
      },
      "outputs": [
        {
          "output_type": "stream",
          "name": "stderr",
          "text": [
            "/usr/local/lib/python3.9/dist-packages/openpyxl/styles/stylesheet.py:226: UserWarning: Workbook contains no default style, apply openpyxl's default\n",
            "  warn(\"Workbook contains no default style, apply openpyxl's default\")\n"
          ]
        },
        {
          "output_type": "stream",
          "name": "stdout",
          "text": [
            "          order_id  order_date   ship_date       ship_mode    customer_name  \\\n",
            "0     AG-2011-2040  2011-01-01  2011-06-01  Standard Class  Toby Braunhardt   \n",
            "1    IN-2011-47883  2011-01-01  2011-08-01  Standard Class      Joseph Holt   \n",
            "2     HU-2011-1220  2011-01-01  2011-05-01    Second Class    Annie Thurman   \n",
            "3  IT-2011-3647632  2011-01-01  2011-05-01    Second Class     Eugene Moren   \n",
            "4     CA-2011-1510  2011-01-01  2011-08-01  Standard Class      Joseph Holt   \n",
            "\n",
            "       segment            state    country  market   region  ...  \\\n",
            "0     Consumer      Constantine    Algeria  Africa   Africa  ...   \n",
            "1     Consumer  New South Wales  Australia    APAC  Oceania  ...   \n",
            "2     Consumer         Budapest    Hungary    EMEA     EMEA  ...   \n",
            "3  Home Office        Stockholm     Sweden      EU    North  ...   \n",
            "4     Consumer  New South Wales  Australia    APAC  Oceania  ...   \n",
            "\n",
            "   product_name2 Unit Price quantity   discount shipping_cost  order_priority  \\\n",
            "0           Blue        211        2  0,0000000         35,46          Medium   \n",
            "1     High Speed        129        3  0,1000000          9,72          Medium   \n",
            "2   Single Width        128        4  0,0000000          8,17            High   \n",
            "3        Premium        177        3  0,5000000          4,82            High   \n",
            "4       Duo Pack        222        5  0,1000000           4,7          Medium   \n",
            "\n",
            "   sales  expenses revenue  year  \n",
            "0    422  397,9902  457,46  2011  \n",
            "1    387  311,4774  358,02  2011  \n",
            "2    512  452,5479  520,17  2011  \n",
            "3    531  235,1784  270,32  2011  \n",
            "4   1110   873,219  1003,7  2014  \n",
            "\n",
            "[5 rows x 24 columns]\n"
          ]
        }
      ],
      "source": [
        "#requiere cargar el archivo \"CuradaenOP-BasedeDatos.xlsx\" a Colab\n",
        "import pandas as pd\n",
        "data = pd.read_excel('/content/CuradaenOP-BasedeDatos.xlsx')\n",
        "\n",
        "print(data.head(5))"
      ]
    },
    {
      "cell_type": "code",
      "execution_count": null,
      "metadata": {
        "colab": {
          "base_uri": "https://localhost:8080/"
        },
        "id": "krTkXAODYJ9r",
        "outputId": "014d5e5b-02bf-4d34-ae4e-d7d8b8738964"
      },
      "outputs": [
        {
          "output_type": "stream",
          "name": "stdout",
          "text": [
            "El tamaño del dataset original es:  (51053, 24)\n"
          ]
        }
      ],
      "source": [
        "#Calcular el tamaño del dataset original\n",
        "print(\"El tamaño del dataset original es: \", data.shape)"
      ]
    },
    {
      "cell_type": "code",
      "execution_count": null,
      "metadata": {
        "colab": {
          "base_uri": "https://localhost:8080/"
        },
        "id": "2pvB83enYfwy",
        "outputId": "877e23cd-7210-4a8d-fdf7-92bf66452790"
      },
      "outputs": [
        {
          "output_type": "stream",
          "name": "stdout",
          "text": [
            "Las variables del dataset son: \n",
            " Index(['order_id', 'order_date', 'ship_date', 'ship_mode', 'customer_name',\n",
            "       'segment', 'state', 'country', 'market', 'region', 'product_id',\n",
            "       'category', 'sub_category', 'product_name', 'product_name2',\n",
            "       'Unit Price', 'quantity', 'discount', 'shipping_cost', 'order_priority',\n",
            "       'sales', 'expenses', 'revenue', 'year'],\n",
            "      dtype='object')\n"
          ]
        }
      ],
      "source": [
        "#Identificar las variables del dataset\n",
        "print(\"Las variables del dataset son: \\n\", data.columns)"
      ]
    },
    {
      "cell_type": "code",
      "execution_count": null,
      "metadata": {
        "colab": {
          "base_uri": "https://localhost:8080/"
        },
        "id": "CcjV3dOLZ2cN",
        "outputId": "41808206-d7ed-454f-d4b2-da99b85cbc04"
      },
      "outputs": [
        {
          "output_type": "stream",
          "name": "stdout",
          "text": [
            "El dataset tiene n registos:  51053\n"
          ]
        }
      ],
      "source": [
        "#Contar el número de registros del dataset\n",
        "print(\"El dataset tiene n registos: \", len(data))"
      ]
    },
    {
      "cell_type": "code",
      "execution_count": null,
      "metadata": {
        "colab": {
          "base_uri": "https://localhost:8080/"
        },
        "id": "A4YuXHRGbUeP",
        "outputId": "b8342ab3-a786-4838-9bec-bc9902daef37"
      },
      "outputs": [
        {
          "output_type": "stream",
          "name": "stdout",
          "text": [
            "Tamaño del dataset original:  (51053, 24)\n",
            "Tamaño del dataset sin duplicados:  (51033, 24)\n"
          ]
        }
      ],
      "source": [
        "#Contar cuantos registros tengo repetidos y fusionarlos en uno solo\n",
        "print(\"Tamaño del dataset original: \", data.shape)\n",
        "data = data.drop_duplicates(keep='first', inplace=False)\n",
        "print(\"Tamaño del dataset sin duplicados: \", data.shape)"
      ]
    },
    {
      "cell_type": "code",
      "execution_count": null,
      "metadata": {
        "colab": {
          "base_uri": "https://localhost:8080/"
        },
        "id": "nSgeXTz3YQe9",
        "outputId": "79c45d73-698c-4777-8986-c2ef47fa2838"
      },
      "outputs": [
        {
          "output_type": "stream",
          "name": "stdout",
          "text": [
            "Cantidad de campos vacios en cada columna: \n",
            " order_id             0\n",
            "order_date           0\n",
            "ship_date            0\n",
            "ship_mode            0\n",
            "customer_name        0\n",
            "segment              0\n",
            "state                0\n",
            "country              0\n",
            "market               0\n",
            "region               0\n",
            "product_id           0\n",
            "category             0\n",
            "sub_category         0\n",
            "product_name         0\n",
            "product_name2     7742\n",
            "Unit Price           0\n",
            "quantity             0\n",
            "discount             0\n",
            "shipping_cost        0\n",
            "order_priority       0\n",
            "sales                0\n",
            "expenses             0\n",
            "revenue              0\n",
            "year                 0\n",
            "dtype: int64\n"
          ]
        }
      ],
      "source": [
        "#Verificar el número de campos vacios\n",
        "cantidad_nulos = data.isnull().sum()  # conteo de los nulos\n",
        "print(\"Cantidad de campos vacios en cada columna: \\n\", cantidad_nulos)"
      ]
    },
    {
      "cell_type": "code",
      "execution_count": null,
      "metadata": {
        "colab": {
          "base_uri": "https://localhost:8080/"
        },
        "id": "3agRMReCeN7M",
        "outputId": "308aae28-6c36-4704-8953-322aa2c89c1e"
      },
      "outputs": [
        {
          "output_type": "stream",
          "name": "stdout",
          "text": [
            "Cantidad de registros:  51033\n",
            "Porcentaje de campos vacios por columna: \n",
            " order_id           0.000000\n",
            "order_date         0.000000\n",
            "ship_date          0.000000\n",
            "ship_mode          0.000000\n",
            "customer_name      0.000000\n",
            "segment            0.000000\n",
            "state              0.000000\n",
            "country            0.000000\n",
            "market             0.000000\n",
            "region             0.000000\n",
            "product_id         0.000000\n",
            "category           0.000000\n",
            "sub_category       0.000000\n",
            "product_name       0.000000\n",
            "product_name2     15.170576\n",
            "Unit Price         0.000000\n",
            "quantity           0.000000\n",
            "discount           0.000000\n",
            "shipping_cost      0.000000\n",
            "order_priority     0.000000\n",
            "sales              0.000000\n",
            "expenses           0.000000\n",
            "revenue            0.000000\n",
            "year               0.000000\n",
            "dtype: float64\n"
          ]
        }
      ],
      "source": [
        "#Calcular el porcentaje de campos vacios por columna\n",
        "cantidad_registros = data.shape[0]\n",
        "print(\"Cantidad de registros: \", data.shape[0])\n",
        "Porcentaje = cantidad_nulos/cantidad_registros*100\n",
        "print(\"Porcentaje de campos vacios por columna: \\n\", Porcentaje)"
      ]
    },
    {
      "cell_type": "code",
      "execution_count": null,
      "metadata": {
        "colab": {
          "base_uri": "https://localhost:8080/"
        },
        "id": "6_oIdyFBfBss",
        "outputId": "2a310b00-6291-43e6-d8e1-87015ac1ca5d"
      },
      "outputs": [
        {
          "output_type": "stream",
          "name": "stdout",
          "text": [
            "Cantidad de Columnas:  24\n"
          ]
        }
      ],
      "source": [
        "#Calcular la cantidad de columnas del dataset\n",
        "print(\"Cantidad de Columnas: \", len(data.columns))\n"
      ]
    },
    {
      "cell_type": "code",
      "execution_count": null,
      "metadata": {
        "colab": {
          "base_uri": "https://localhost:8080/"
        },
        "id": "fvHmQedzgDFG",
        "outputId": "a92a858a-51ab-43e5-8d23-2d52dfcd4bfd"
      },
      "outputs": [
        {
          "output_type": "stream",
          "name": "stdout",
          "text": [
            "Mantener los registros con al menos n valores NO-nulos:  21\n"
          ]
        }
      ],
      "source": [
        "#Definir la cantidad de columnas en las que se espera existan valores NO-nulos para no tener que borrar el registro\n",
        "rango = len(data.columns)*0.90\n",
        "\n",
        "print(\"Mantener los registros con al menos n valores NO-nulos: \", int(rango))"
      ]
    },
    {
      "cell_type": "code",
      "execution_count": null,
      "metadata": {
        "colab": {
          "base_uri": "https://localhost:8080/"
        },
        "id": "Ol2ZH260gJzG",
        "outputId": "ff663a40-9dc2-4d23-910e-c05d1a540784"
      },
      "outputs": [
        {
          "output_type": "stream",
          "name": "stdout",
          "text": [
            "Tamano del dataset curado:  (51033, 24)\n"
          ]
        }
      ],
      "source": [
        "#Mantener los registros con al menos un %rango de NO-nulos\n",
        "data.dropna(thresh = rango, axis = 0, inplace = True)\n",
        "print(\"Tamano del dataset curado: \", data.shape)"
      ]
    },
    {
      "cell_type": "code",
      "execution_count": null,
      "metadata": {
        "colab": {
          "base_uri": "https://localhost:8080/"
        },
        "id": "M9cUrm0MyAoP",
        "outputId": "6efdc464-81e4-40cb-a356-63b1825ddca8"
      },
      "outputs": [
        {
          "output_type": "stream",
          "name": "stdout",
          "text": [
            "El tamaño del dataset unicamente con variables numéricas es:  (51033, 4)\n"
          ]
        }
      ],
      "source": [
        "numeric = data._get_numeric_data()\n",
        "print(\"El tamaño del dataset unicamente con variables numéricas es: \", numeric.shape)"
      ]
    },
    {
      "cell_type": "code",
      "execution_count": null,
      "metadata": {
        "colab": {
          "base_uri": "https://localhost:8080/",
          "height": 217
        },
        "id": "QBrB8W7MwPzZ",
        "outputId": "6ebc2602-772e-4d61-d154-64b59b65eea8"
      },
      "outputs": [
        {
          "output_type": "error",
          "ename": "NameError",
          "evalue": "ignored",
          "traceback": [
            "\u001b[0;31m---------------------------------------------------------------------------\u001b[0m",
            "\u001b[0;31mNameError\u001b[0m                                 Traceback (most recent call last)",
            "\u001b[0;32m<ipython-input-4-2eb2178cceb6>\u001b[0m in \u001b[0;36m<cell line: 3>\u001b[0;34m()\u001b[0m\n\u001b[1;32m      1\u001b[0m \u001b[0;31m#OPCION 1. Extraer manualmente las variables numéricas\u001b[0m\u001b[0;34m\u001b[0m\u001b[0;34m\u001b[0m\u001b[0m\n\u001b[1;32m      2\u001b[0m \u001b[0;32mfrom\u001b[0m \u001b[0mmatplotlib\u001b[0m \u001b[0;32mimport\u001b[0m \u001b[0mpyplot\u001b[0m \u001b[0;32mas\u001b[0m \u001b[0mplt\u001b[0m\u001b[0;34m\u001b[0m\u001b[0;34m\u001b[0m\u001b[0m\n\u001b[0;32m----> 3\u001b[0;31m \u001b[0mboxplot\u001b[0m \u001b[0;34m=\u001b[0m \u001b[0mdata\u001b[0m\u001b[0;34m.\u001b[0m\u001b[0mboxplot\u001b[0m\u001b[0;34m(\u001b[0m\u001b[0mcolumn\u001b[0m\u001b[0;34m=\u001b[0m\u001b[0;34m[\u001b[0m\u001b[0;34m\"Unit Price\"\u001b[0m\u001b[0;34m,\u001b[0m \u001b[0;34m\"quantity\"\u001b[0m\u001b[0;34m,\u001b[0m \u001b[0;34m\"discount\"\u001b[0m\u001b[0;34m]\u001b[0m\u001b[0;34m,\u001b[0m \u001b[0mreturn_type\u001b[0m\u001b[0;34m=\u001b[0m\u001b[0;34m'both'\u001b[0m\u001b[0;34m,\u001b[0m \u001b[0mfigsize\u001b[0m\u001b[0;34m=\u001b[0m\u001b[0;34m(\u001b[0m\u001b[0;36m10\u001b[0m\u001b[0;34m,\u001b[0m\u001b[0;36m10\u001b[0m\u001b[0;34m)\u001b[0m\u001b[0;34m)\u001b[0m\u001b[0;34m\u001b[0m\u001b[0;34m\u001b[0m\u001b[0m\n\u001b[0m\u001b[1;32m      4\u001b[0m \u001b[0mplt\u001b[0m\u001b[0;34m.\u001b[0m\u001b[0mshow\u001b[0m\u001b[0;34m(\u001b[0m\u001b[0;34m)\u001b[0m\u001b[0;34m\u001b[0m\u001b[0;34m\u001b[0m\u001b[0m\n",
            "\u001b[0;31mNameError\u001b[0m: name 'data' is not defined"
          ]
        }
      ],
      "source": [
        "#OPCION 1. Extraer manualmente las variables numéricas\n",
        "from matplotlib import pyplot as plt\n",
        "boxplot = data.boxplot(column=[\"Unit Price\", \"quantity\", \"discount\"], return_type='both', figsize=(10,10))\n",
        "plt.show()"
      ]
    }
  ]
}